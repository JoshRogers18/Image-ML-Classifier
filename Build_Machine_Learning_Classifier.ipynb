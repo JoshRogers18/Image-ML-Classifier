{
  "nbformat": 4,
  "nbformat_minor": 0,
  "metadata": {
    "colab": {
      "name": "Build Machine Learning Classifier.ipynb",
      "provenance": [],
      "collapsed_sections": [],
      "include_colab_link": true
    },
    "kernelspec": {
      "display_name": "Python 3",
      "name": "python3"
    },
    "language_info": {
      "name": "python"
    }
  },
  "cells": [
    {
      "cell_type": "markdown",
      "metadata": {
        "id": "view-in-github",
        "colab_type": "text"
      },
      "source": [
        "<a href=\"https://colab.research.google.com/github/JoshRogers18/Image-ML-Classifier/blob/main/Build_Machine_Learning_Classifier.ipynb\" target=\"_parent\"><img src=\"https://colab.research.google.com/assets/colab-badge.svg\" alt=\"Open In Colab\"/></a>"
      ]
    },
    {
      "cell_type": "markdown",
      "metadata": {
        "id": "8UlIeBZtVSsS"
      },
      "source": [
        "**Guided Project: Build an Image Classifier with Python**"
      ]
    },
    {
      "cell_type": "code",
      "metadata": {
        "id": "wYZnT-OvYeRS",
        "colab": {
          "base_uri": "https://localhost:8080/"
        },
        "outputId": "1a37e0f4-50bd-4551-eda6-345dbea80491"
      },
      "source": [
        "#Here we load the Mnist data from Keras\n",
        "# Tensorflow is used for machine learning and for deep neural networks\n",
        "import tensorflow as tf\n",
        "# Loan and split data. Will be using keras for artifical neural networks that will act as an interface for tensorflow\n",
        "# Data is 70,000 images(28x28) of digits 0-9, Modified National Institute of Standards and Technology (MNIST)\n",
        "(x_train, y_train), (x_test, y_test) = tf.keras.datasets.mnist.load_data()\n",
        "#get an idea of shape of train data\n",
        "x_train.shape"
      ],
      "execution_count": null,
      "outputs": [
        {
          "output_type": "stream",
          "name": "stdout",
          "text": [
            "Downloading data from https://storage.googleapis.com/tensorflow/tf-keras-datasets/mnist.npz\n",
            "11493376/11490434 [==============================] - 0s 0us/step\n",
            "11501568/11490434 [==============================] - 0s 0us/step\n"
          ]
        },
        {
          "output_type": "execute_result",
          "data": {
            "text/plain": [
              "(60000, 28, 28)"
            ]
          },
          "metadata": {},
          "execution_count": 2
        }
      ]
    },
    {
      "cell_type": "code",
      "metadata": {
        "id": "5dHimADmYfN2",
        "colab": {
          "base_uri": "https://localhost:8080/",
          "height": 300
        },
        "outputId": "91a887d9-6a13-47b9-efc3-ddcbc3124978"
      },
      "source": [
        "# Here we preview an element of the data\n",
        "import matplotlib.pyplot as plt\n",
        "print(y_train[100]) # To display the label number\n",
        "plt.imshow(x_train[100], cmap='Greys') #to show the image associated with label"
      ],
      "execution_count": null,
      "outputs": [
        {
          "output_type": "stream",
          "name": "stdout",
          "text": [
            "5\n"
          ]
        },
        {
          "output_type": "execute_result",
          "data": {
            "text/plain": [
              "<matplotlib.image.AxesImage at 0x7f7192b2d350>"
            ]
          },
          "metadata": {},
          "execution_count": 3
        },
        {
          "output_type": "display_data",
          "data": {
            "image/png": "[encoded data removed]",
            "text/plain": [
              "<Figure size 432x288 with 1 Axes>"
            ]
          },
          "metadata": {
            "needs_background": "light"
          }
        }
      ]
    },
    {
      "cell_type": "code",
      "metadata": {
        "colab": {
          "base_uri": "https://localhost:8080/"
        },
        "id": "ugOSFJ9p5SQa",
        "outputId": "1d1e01e7-f128-4f2b-a540-0d7c2a32015f"
      },
      "source": [
        "x_train[100]"
      ],
      "execution_count": null,
      "outputs": [
        {
          "output_type": "execute_result",
          "data": {
            "text/plain": [
              "array([[  0,   0,   0,   0,   0,   0,   0,   0,   0,   0,   0,   0,   0,\n",
              "          0,   0,   0,   0,   0,   0,   0,   0,   0,   0,   0,   0,   0,\n",
              "          0,   0],\n",
              "       [  0,   0,   0,   0,   0,   0,   0,   0,   0,   0,   0,   0,   0,\n",
              "          0,   0,   0,   0,   0,   0,   0,   0,   0,   0,   0,   0,   0,\n",
              "          0,   0],\n",
              "       [  0,   0,   0,   0,   0,   0,   0,   0,   0,   0,   0,   0,   0,\n",
              "          0,   0,   0,   0,   0,   0,   0,   0,   0,   0,   0,   0,   0,\n",
              "          0,   0],\n",
              "       [  0,   0,   0,   0,   0,   0,   0,   0,   0,   0,   0,   0,   0,\n",
              "          0,   0,   0,   0,   0,   0,   0,   0,   0,   0,   0,   0,   0,\n",
              "          0,   0],\n",
              "       [  0,   0,   0,   0,   0,   0,   0,   0,   0,   0,   0,   0,   0,\n",
              "          0,   0,   0,   0,   0,   0,   0,   0,   0,   0,   0,   0,   0,\n",
              "          0,   0],\n",
              "       [  0,   0,   0,   0,   0,   0,   0,   0,   0,   0,   0,   0,   0,\n",
              "          0,   0,   0,   0,   0,   0,   0,   0,   0,   0,   0,   0,   0,\n",
              "          0,   0],\n",
              "       [  0,   0,   0,   0,   0,   0,   0,   0,   0,   0,   0,   0,   0,\n",
              "          2,  18,  46, 136, 136, 244, 255, 241, 103,   0,   0,   0,   0,\n",
              "          0,   0],\n",
              "       [  0,   0,   0,   0,   0,   0,   0,   0,   0,   0,   0,  15,  94,\n",
              "        163, 253, 253, 253, 253, 238, 218, 204,  35,   0,   0,   0,   0,\n",
              "          0,   0],\n",
              "       [  0,   0,   0,   0,   0,   0,   0,   0,   0,   0,   0, 131, 253,\n",
              "        253, 253, 253, 237, 200,  57,   0,   0,   0,   0,   0,   0,   0,\n",
              "          0,   0],\n",
              "       [  0,   0,   0,   0,   0,   0,   0,   0,   0,   0, 155, 246, 253,\n",
              "        247, 108,  65,  45,   0,   0,   0,   0,   0,   0,   0,   0,   0,\n",
              "          0,   0],\n",
              "       [  0,   0,   0,   0,   0,   0,   0,   0,   0,   0, 207, 253, 253,\n",
              "        230,   0,   0,   0,   0,   0,   0,   0,   0,   0,   0,   0,   0,\n",
              "          0,   0],\n",
              "       [  0,   0,   0,   0,   0,   0,   0,   0,   0,   0, 157, 253, 253,\n",
              "        125,   0,   0,   0,   0,   0,   0,   0,   0,   0,   0,   0,   0,\n",
              "          0,   0],\n",
              "       [  0,   0,   0,   0,   0,   0,   0,   0,   0,   0,  89, 253, 250,\n",
              "         57,   0,   0,   0,   0,   0,   0,   0,   0,   0,   0,   0,   0,\n",
              "          0,   0],\n",
              "       [  0,   0,   0,   0,   0,   0,   0,   0,   0,   0,  89, 253, 247,\n",
              "          0,   0,   0,   0,   0,   0,   0,   0,   0,   0,   0,   0,   0,\n",
              "          0,   0],\n",
              "       [  0,   0,   0,   0,   0,   0,   0,   0,   0,   0,  89, 253, 247,\n",
              "          0,   0,   0,   0,   0,   0,   0,   0,   0,   0,   0,   0,   0,\n",
              "          0,   0],\n",
              "       [  0,   0,   0,   0,   0,   0,   0,   0,   0,   0,  89, 253, 247,\n",
              "          0,   0,   0,   0,   0,   0,   0,   0,   0,   0,   0,   0,   0,\n",
              "          0,   0],\n",
              "       [  0,   0,   0,   0,   0,   0,   0,   0,   0,   0,  21, 231, 249,\n",
              "         34,   0,   0,   0,   0,   0,   0,   0,   0,   0,   0,   0,   0,\n",
              "          0,   0],\n",
              "       [  0,   0,   0,   0,   0,   0,   0,   0,   0,   0,   0, 225, 253,\n",
              "        231, 213, 213, 123,  16,   0,   0,   0,   0,   0,   0,   0,   0,\n",
              "          0,   0],\n",
              "       [  0,   0,   0,   0,   0,   0,   0,   0,   0,   0,   0, 172, 253,\n",
              "        253, 253, 253, 253, 190,  63,   0,   0,   0,   0,   0,   0,   0,\n",
              "          0,   0],\n",
              "       [  0,   0,   0,   0,   0,   0,   0,   0,   0,   0,   0,   2, 116,\n",
              "         72, 124, 209, 253, 253, 141,   0,   0,   0,   0,   0,   0,   0,\n",
              "          0,   0],\n",
              "       [  0,   0,   0,   0,   0,   0,   0,   0,   0,   0,   0,   0,   0,\n",
              "          0,   0,  25, 219, 253, 206,   3,   0,   0,   0,   0,   0,   0,\n",
              "          0,   0],\n",
              "       [  0,   0,   0,   0,   0,   0,   0,   0,   0,   0,   0,   0,   0,\n",
              "          0,   0,   0, 104, 246, 253,   5,   0,   0,   0,   0,   0,   0,\n",
              "          0,   0],\n",
              "       [  0,   0,   0,   0,   0,   0,   0,   0,   0,   0,   0,   0,   0,\n",
              "          0,   0,   0,   0, 213, 253,   5,   0,   0,   0,   0,   0,   0,\n",
              "          0,   0],\n",
              "       [  0,   0,   0,   0,   0,   0,   0,   0,   0,   0,   0,   0,   0,\n",
              "          0,   0,   0,  26, 226, 253,   5,   0,   0,   0,   0,   0,   0,\n",
              "          0,   0],\n",
              "       [  0,   0,   0,   0,   0,   0,   0,   0,   0,   0,   0,   0,   0,\n",
              "          0,   0,   0, 132, 253, 209,   3,   0,   0,   0,   0,   0,   0,\n",
              "          0,   0],\n",
              "       [  0,   0,   0,   0,   0,   0,   0,   0,   0,   0,   0,   0,   0,\n",
              "          0,   0,   0,  78, 253,  86,   0,   0,   0,   0,   0,   0,   0,\n",
              "          0,   0],\n",
              "       [  0,   0,   0,   0,   0,   0,   0,   0,   0,   0,   0,   0,   0,\n",
              "          0,   0,   0,   0,   0,   0,   0,   0,   0,   0,   0,   0,   0,\n",
              "          0,   0],\n",
              "       [  0,   0,   0,   0,   0,   0,   0,   0,   0,   0,   0,   0,   0,\n",
              "          0,   0,   0,   0,   0,   0,   0,   0,   0,   0,   0,   0,   0,\n",
              "          0,   0]], dtype=uint8)"
            ]
          },
          "metadata": {},
          "execution_count": 4
        }
      ]
    },
    {
      "cell_type": "code",
      "metadata": {
        "id": "VwRdn1KnYfeB",
        "colab": {
          "base_uri": "https://localhost:8080/"
        },
        "outputId": "35ccd179-8e26-427a-a2e0-fe08930a2857"
      },
      "source": [
        "#Reshaping and preprocessing\n",
        "# Reshaping the array to 4-dims so that it can work with the Keras API\n",
        "x_train = x_train.reshape(x_train.shape[0], 28, 28, 1)\n",
        "x_test = x_test.reshape(x_test.shape[0], 28, 28, 1)\n",
        "input_shape = (28, 28, 1)\n",
        "# Making sure that the values are float so that we can get decimal points after division\n",
        "x_train = x_train.astype('float32')\n",
        "x_test = x_test.astype('float32')\n",
        "# Normalizing the RGB codes by dividing it to the max RGB value.\n",
        "x_train /= 255\n",
        "x_test /= 255\n",
        "print('x_train shape:', x_train.shape)\n",
        "print('Number of images in x_train', x_train.shape[0])\n",
        "print('Number of images in x_test', x_test.shape[0])"
      ],
      "execution_count": null,
      "outputs": [
        {
          "output_type": "stream",
          "name": "stdout",
          "text": [
            "x_train shape: (60000, 28, 28, 1)\n",
            "Number of images in x_train 60000\n",
            "Number of images in x_test 10000\n"
          ]
        }
      ]
    },
    {
      "cell_type": "code",
      "metadata": {
        "id": "jGiqm6QO5JrT"
      },
      "source": [
        "x_train[100]"
      ],
      "execution_count": null,
      "outputs": []
    },
    {
      "cell_type": "code",
      "metadata": {
        "id": "3DbGfDE5Yfgu"
      },
      "source": [
        "#Building to Keras\n",
        "# Importing the required Keras modules containing model and layers\n",
        "from tensorflow.keras.models import Sequential\n",
        "from tensorflow.keras.layers import Dense, Conv2D, Dropout, Flatten, MaxPooling2D\n",
        "# Creating a Sequential Model and adding the layers\n",
        "model = Sequential() #chosen Keras model\n",
        "model.add(Conv2D(28, kernel_size=(3,3), input_shape=input_shape)) #convolution\n",
        "model.add(MaxPooling2D(pool_size=(2, 2))) #pooling layer\n",
        "model.add(Flatten()) # Flattening the 2D arrays for fully connected layers\n",
        "model.add(Dense(64, activation=tf.nn.relu)) #dense layer relu\n",
        "model.add(Dropout(0.2)) # prevents overfitting\n",
        "model.add(Dense(10,activation=tf.nn.softmax)) #dense layer softmax"
      ],
      "execution_count": null,
      "outputs": []
    },
    {
      "cell_type": "code",
      "metadata": {
        "id": "94nX1XPcYfje",
        "colab": {
          "base_uri": "https://localhost:8080/"
        },
        "outputId": "b1ff37f3-1cd1-4c8e-8529-2cb9710a4bbb"
      },
      "source": [
        "#Compiling and fitting the model\n",
        "model.compile(optimizer='adam', # used to help neural network iterate\n",
        "              loss='sparse_categorical_crossentropy', # evalutes how well an algorithm models data \n",
        "              metrics=['accuracy']) \n",
        "model.fit(x=x_train,y=y_train, epochs=15) # num of iterations"
      ],
      "execution_count": null,
      "outputs": [
        {
          "output_type": "stream",
          "name": "stdout",
          "text": [
            "Epoch 1/10\n",
            "1875/1875 [==============================] - 31s 16ms/step - loss: 0.2561 - accuracy: 0.9227\n",
            "Epoch 2/10\n",
            "1875/1875 [==============================] - 30s 16ms/step - loss: 0.1131 - accuracy: 0.9649\n",
            "Epoch 3/10\n",
            "1875/1875 [==============================] - 30s 16ms/step - loss: 0.0839 - accuracy: 0.9739\n",
            "Epoch 4/10\n",
            "1875/1875 [==============================] - 30s 16ms/step - loss: 0.0676 - accuracy: 0.9783\n",
            "Epoch 5/10\n",
            "1875/1875 [==============================] - 30s 16ms/step - loss: 0.0543 - accuracy: 0.9823\n",
            "Epoch 6/10\n",
            "1875/1875 [==============================] - 29s 16ms/step - loss: 0.0479 - accuracy: 0.9845\n",
            "Epoch 7/10\n",
            "1875/1875 [==============================] - 30s 16ms/step - loss: 0.0416 - accuracy: 0.9863\n",
            "Epoch 8/10\n",
            "1875/1875 [==============================] - 30s 16ms/step - loss: 0.0373 - accuracy: 0.9870\n",
            "Epoch 9/10\n",
            "1875/1875 [==============================] - 30s 16ms/step - loss: 0.0335 - accuracy: 0.9887\n",
            "Epoch 10/10\n",
            "1875/1875 [==============================] - 29s 16ms/step - loss: 0.0299 - accuracy: 0.9904\n"
          ]
        },
        {
          "output_type": "execute_result",
          "data": {
            "text/plain": [
              "<keras.callbacks.History at 0x7f7192576e50>"
            ]
          },
          "metadata": {},
          "execution_count": 8
        }
      ]
    },
    {
      "cell_type": "code",
      "metadata": {
        "id": "8M-S-eLcYfl8",
        "colab": {
          "base_uri": "https://localhost:8080/"
        },
        "outputId": "3b8dad5f-ea9f-4527-9d33-82c66dd8b263"
      },
      "source": [
        "#evaluating\n",
        "# show 98% accuracy\n",
        "model.evaluate(x_test, y_test)"
      ],
      "execution_count": null,
      "outputs": [
        {
          "output_type": "stream",
          "name": "stdout",
          "text": [
            "313/313 [==============================] - 2s 7ms/step - loss: 0.0698 - accuracy: 0.9808\n"
          ]
        },
        {
          "output_type": "execute_result",
          "data": {
            "text/plain": [
              "[0.06978865712881088, 0.9807999730110168]"
            ]
          },
          "metadata": {},
          "execution_count": 9
        }
      ]
    },
    {
      "cell_type": "code",
      "metadata": {
        "id": "ATyjCTNTYDhS",
        "colab": {
          "base_uri": "https://localhost:8080/",
          "height": 282
        },
        "outputId": "7ae8cc54-b25d-411c-fb7c-0a1e7431b072"
      },
      "source": [
        "#testing on test data\n",
        "image_index = 991 #choose random value up to 10000\n",
        "plt.imshow(x_test[image_index].reshape(28, 28),cmap='Greys') #running chosen image and outputting 28x28 \n",
        "pred = model.predict(x_test[image_index].reshape(1, 28, 28, 1)) #runnning prediction model\n",
        "print(pred.argmax())\n"
      ],
      "execution_count": null,
      "outputs": [
        {
          "output_type": "stream",
          "name": "stdout",
          "text": [
            "3\n"
          ]
        },
        {
          "output_type": "display_data",
          "data": {
            "image/png": "[encoded data removed]",
            "text/plain": [
              "<Figure size 432x288 with 1 Axes>"
            ]
          },
          "metadata": {
            "needs_background": "light"
          }
        }
      ]
    },
    {
      "cell_type": "code",
      "metadata": {
        "id": "PFRoTp9RcRb9",
        "colab": {
          "base_uri": "https://localhost:8080/",
          "height": 248
        },
        "outputId": "47b50778-2546-4fb4-e0d2-02ee0e5c2cd6"
      },
      "source": [
        "# Find own image and apply\n",
        "#Previewing the downloaded image \n",
        "import cv2\n",
        "import numpy as np\n",
        "from matplotlib import pyplot as plt\n",
        "# Load image as grayscale\n",
        "im = cv2.imread(\"which.jpg\")\n",
        "# Show image\n",
        "plt.imshow(im, cmap=\"gray\"), plt.axis(\"off\")\n",
        "plt.show()"
      ],
      "execution_count": null,
      "outputs": [
        {
          "output_type": "display_data",
          "data": {
            "image/png": "[encoded data removed]",
            "text/plain": [
              "<Figure size 432x288 with 1 Axes>"
            ]
          },
          "metadata": {
            "needs_background": "light"
          }
        }
      ]
    },
    {
      "cell_type": "code",
      "metadata": {
        "id": "bGACxZxzZak3",
        "colab": {
          "base_uri": "https://localhost:8080/"
        },
        "outputId": "09ec778b-b567-4f18-adf0-feb28917faa6"
      },
      "source": [
        "# is an 85x60 pixel image across 3 chanels, not in form needed\n",
        "im.shape"
      ],
      "execution_count": null,
      "outputs": [
        {
          "output_type": "execute_result",
          "data": {
            "text/plain": [
              "(85, 60, 3)"
            ]
          },
          "metadata": {},
          "execution_count": 13
        }
      ]
    },
    {
      "cell_type": "code",
      "metadata": {
        "id": "mpJ0m7vUShou"
      },
      "source": [
        "from tensorflow.keras.preprocessing import image #Import Keras image processor"
      ],
      "execution_count": null,
      "outputs": []
    },
    {
      "cell_type": "code",
      "metadata": {
        "id": "e_A56tyHR7AW"
      },
      "source": [
        "#load downloaded image and resze to target size\n",
        "img = image.load_img(\"which.jpg\", target_size=(28, 28),color_mode=\"grayscale\")\n"
      ],
      "execution_count": null,
      "outputs": []
    },
    {
      "cell_type": "code",
      "metadata": {
        "id": "5AJEG_1YTR_Z"
      },
      "source": [
        "#convert loaded and resized image to array of numbers\n",
        "img_array = image.img_to_array(img)\n"
      ],
      "execution_count": null,
      "outputs": []
    },
    {
      "cell_type": "code",
      "metadata": {
        "id": "C2gMW1uwTSCo",
        "colab": {
          "base_uri": "https://localhost:8080/"
        },
        "outputId": "87aaccb0-d67e-4c39-8ef1-637d19771451"
      },
      "source": [
        "#Confirm new shape, 28x28 by one channel\n",
        "img_array.shape"
      ],
      "execution_count": null,
      "outputs": [
        {
          "output_type": "execute_result",
          "data": {
            "text/plain": [
              "(28, 28, 1)"
            ]
          },
          "metadata": {},
          "execution_count": 17
        }
      ]
    },
    {
      "cell_type": "code",
      "metadata": {
        "id": "vPkagakpRDBL",
        "colab": {
          "base_uri": "https://localhost:8080/"
        },
        "outputId": "e0ff0697-66d6-42ff-f183-597bba6a8b30"
      },
      "source": [
        "#Convert image array to 2D format that can be predicted upon\n",
        "img_array = img_array[:,:,0]\n",
        "img_array.shape"
      ],
      "execution_count": null,
      "outputs": [
        {
          "output_type": "execute_result",
          "data": {
            "text/plain": [
              "(28, 28)"
            ]
          },
          "metadata": {},
          "execution_count": 18
        }
      ]
    },
    {
      "cell_type": "code",
      "metadata": {
        "id": "eIIhNPm4UQRB",
        "colab": {
          "base_uri": "https://localhost:8080/",
          "height": 282
        },
        "outputId": "cc712bd9-4c31-4336-d1fc-8c18e287b5e8"
      },
      "source": [
        "plt.imshow(img_array,cmap=\"Greys\")"
      ],
      "execution_count": null,
      "outputs": [
        {
          "output_type": "execute_result",
          "data": {
            "text/plain": [
              "<matplotlib.image.AxesImage at 0x7f71850ab190>"
            ]
          },
          "metadata": {},
          "execution_count": 19
        },
        {
          "output_type": "display_data",
          "data": {
            "image/png": "[encoded data removed]",
            "text/plain": [
              "<Figure size 432x288 with 1 Axes>"
            ]
          },
          "metadata": {
            "needs_background": "light"
          }
        }
      ]
    },
    {
      "cell_type": "code",
      "metadata": {
        "id": "rJ4e9zDwdFIV",
        "colab": {
          "base_uri": "https://localhost:8080/",
          "height": 282
        },
        "outputId": "4d49f28d-6698-4ed9-ec5b-37c418d0381c"
      },
      "source": [
        "#invert loaded image array into same format as data used for training\n",
        "img_array=1-img_array\n",
        "plt.imshow(img_array,cmap=\"Greys\")"
      ],
      "execution_count": null,
      "outputs": [
        {
          "output_type": "execute_result",
          "data": {
            "text/plain": [
              "<matplotlib.image.AxesImage at 0x7f71850176d0>"
            ]
          },
          "metadata": {},
          "execution_count": 20
        },
        {
          "output_type": "display_data",
          "data": {
            "image/png": "[encoded data removed]",
            "text/plain": [
              "<Figure size 432x288 with 1 Axes>"
            ]
          },
          "metadata": {
            "needs_background": "light"
          }
        }
      ]
    },
    {
      "cell_type": "markdown",
      "metadata": {
        "id": "KlGBZ5ho7v6D"
      },
      "source": [
        "# Prediction on sample image"
      ]
    },
    {
      "cell_type": "code",
      "metadata": {
        "id": "EwaWgsQwYfoe",
        "colab": {
          "base_uri": "https://localhost:8080/",
          "height": 282
        },
        "outputId": "4fa61770-4bcc-42dd-9360-cad796eb1bd7"
      },
      "source": [
        "#Running Prediction on the image\n",
        "\n",
        "plt.imshow(img_array,cmap=\"Greys\")\n",
        "pred = model.predict(img_array.reshape(1, 28, 28, 1))\n",
        "print(pred.argmax())\n"
      ],
      "execution_count": null,
      "outputs": [
        {
          "output_type": "stream",
          "name": "stdout",
          "text": [
            "3\n"
          ]
        },
        {
          "output_type": "display_data",
          "data": {
            "image/png": "[encoded data removed]",
            "text/plain": [
              "<Figure size 432x288 with 1 Axes>"
            ]
          },
          "metadata": {
            "needs_background": "light"
          }
        }
      ]
    }
  ]
}